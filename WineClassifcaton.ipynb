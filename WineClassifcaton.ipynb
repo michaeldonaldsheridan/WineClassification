{
 "cells": [
  {
   "cell_type": "code",
   "execution_count": null,
   "metadata": {},
   "outputs": [],
   "source": [
    "# Import the data\n",
    "import pandas as pd\n",
    "import numpy as np\n",
    "from sklearn.model_selection import train_test_split\n",
    "from sklearn.metrics import balanced_accuracy_score\n",
    "from sklearn.preprocessing import OneHotEncoder, OrdinalEncoder, LabelEncoder\n",
    "from sklearn.compose import ColumnTransformer\n",
    "from sklearn.preprocessing import StandardScaler\n",
    "from scipy.stats import pearsonr\n",
    "from sklearn.neighbors import KNeighborsClassifier\n",
    "import matplotlib.pyplot as plt\n",
    "\n",
    "df = pd.read_csv('wines_SPA.csv')\n",
    "df.head()"
   ]
  },
  {
   "cell_type": "code",
   "execution_count": null,
   "metadata": {},
   "outputs": [],
   "source": [
    "#Create a data frame\n",
    "wine_df = pd.DataFrame(df)\n",
    "wine_df.head()"
   ]
  },
  {
   "cell_type": "code",
   "execution_count": null,
   "metadata": {},
   "outputs": [],
   "source": [
    "wine_df['winery'].value_counts()"
   ]
  },
  {
   "cell_type": "code",
   "execution_count": null,
   "metadata": {},
   "outputs": [],
   "source": [
    "wine_df['wine'].value_counts()"
   ]
  },
  {
   "cell_type": "code",
   "execution_count": null,
   "metadata": {},
   "outputs": [],
   "source": [
    "wine_df['region'].value_counts()"
   ]
  },
  {
   "cell_type": "code",
   "execution_count": null,
   "metadata": {},
   "outputs": [],
   "source": [
    "wine_df['type'].value_counts()"
   ]
  },
  {
   "cell_type": "code",
   "execution_count": null,
   "metadata": {},
   "outputs": [],
   "source": [
    "wine_df.isna().sum()"
   ]
  },
  {
   "cell_type": "code",
   "execution_count": null,
   "metadata": {},
   "outputs": [],
   "source": [
    "wine_df.dropna(inplace=True)"
   ]
  },
  {
   "cell_type": "code",
   "execution_count": null,
   "metadata": {},
   "outputs": [],
   "source": [
    "wine_df.info()"
   ]
  },
  {
   "cell_type": "code",
   "execution_count": null,
   "metadata": {},
   "outputs": [],
   "source": [
    "\n",
    "encoder = OneHotEncoder(sparse_output=False, handle_unknown='ignore')\n",
    "encoder.set_output(transform=\"pandas\")\n",
    "encoder.fit(wine_df[['winery', 'wine', 'region', 'type']])\n",
    "encoded_columns = encoder.transform(wine_df[['winery', 'wine', 'region', 'type']])\n",
    "# encoded_df = pd.DataFrame(encoded_columns.toarray(), columns=encoder.get_feature_names_out(columns_to_encode))\n",
    "# print(encoded_columns)\n",
    "column_names = encoder.get_feature_names_out()\n",
    "print(column_names)\n",
    "encoded_df = pd.DataFrame(encoded_columns, columns=column_names)"
   ]
  },
  {
   "cell_type": "code",
   "execution_count": null,
   "metadata": {},
   "outputs": [],
   "source": [
    "encoded_df.head()"
   ]
  },
  {
   "cell_type": "code",
   "execution_count": null,
   "metadata": {},
   "outputs": [],
   "source": [
    "wine_df_encoded = pd.concat([wine_df, encoded_df], axis=1)\n",
    "wine_df_encoded.drop(['winery', 'wine', 'region', 'type', 'country'], axis=1, inplace=True)\n",
    "wine_df_encoded.head()"
   ]
  },
  {
   "cell_type": "code",
   "execution_count": null,
   "metadata": {},
   "outputs": [],
   "source": [
    "# Convert non-numeric 'year' values to NaN\n",
    "wine_df_encoded['year'] = pd.to_numeric(wine_df_encoded['year'], errors='coerce')\n",
    "\n",
    "# Drop rows with NaN values in 'year' column\n",
    "wine_df_encoded = wine_df_encoded.dropna(subset=['year'])"
   ]
  },
  {
   "cell_type": "code",
   "execution_count": null,
   "metadata": {},
   "outputs": [],
   "source": [
    "scaler = StandardScaler()\n",
    "scaler.fit(wine_df_encoded)\n",
    "\n",
    "scaled_data = scaler.transform(wine_df_encoded)\n",
    "scaled_df = pd.DataFrame(scaled_data, columns=wine_df_encoded.columns)\n",
    "scaled_df.head()\n"
   ]
  },
  {
   "cell_type": "code",
   "execution_count": null,
   "metadata": {},
   "outputs": [],
   "source": [
    "wine_df_encoded.corr()"
   ]
  },
  {
   "cell_type": "code",
   "execution_count": null,
   "metadata": {},
   "outputs": [],
   "source": [
    "y = wine_df_encoded['price']\n",
    "X = wine_df_encoded.drop(columns='price')"
   ]
  },
  {
   "cell_type": "code",
   "execution_count": null,
   "metadata": {},
   "outputs": [],
   "source": [
    "X_train, X_test, y_train, y_test = train_test_split(X, y, random_state=42)"
   ]
  },
  {
   "cell_type": "code",
   "execution_count": null,
   "metadata": {},
   "outputs": [],
   "source": [
    "#KNN neighbors"
   ]
  },
  {
   "cell_type": "code",
   "execution_count": null,
   "metadata": {},
   "outputs": [],
   "source": [
    "#Random Forest"
   ]
  },
  {
   "cell_type": "code",
   "execution_count": null,
   "metadata": {},
   "outputs": [],
   "source": [
    "#XG Boost"
   ]
  },
  {
   "cell_type": "code",
   "execution_count": null,
   "metadata": {},
   "outputs": [],
   "source": [
    "#SVM"
   ]
  },
  {
   "cell_type": "code",
   "execution_count": null,
   "metadata": {},
   "outputs": [],
   "source": [
    "#Linear Regression"
   ]
  },
  {
   "cell_type": "code",
   "execution_count": null,
   "metadata": {},
   "outputs": [],
   "source": [
    "#Logistic Regression"
   ]
  },
  {
   "cell_type": "code",
   "execution_count": null,
   "metadata": {},
   "outputs": [],
   "source": [
    "from ClassificationDataPipeline import train_and_evaluate_models\n",
    "df = pd.read_csv('wines_SPA.csv')\n",
    "target_column = 'rating'\n",
    "Randomstate = 50\n",
    "accuracy_scores = train_and_evaluate_models(df, target_column, Randomstate)\n",
    "print(accuracy_scores)"
   ]
  },
  {
   "cell_type": "code",
   "execution_count": null,
   "metadata": {},
   "outputs": [],
   "source": [
    "from ClassificationDataPipeline import train_and_evaluate_models\n",
    "df = pd.read_csv('wines_SPA.csv')\n",
    "target_column = 'price'\n",
    "Randomstate = 50\n",
    "accuracy_scores = train_and_evaluate_models(df, target_column, Randomstate)\n",
    "print(accuracy_scores)"
   ]
  },
  {
   "cell_type": "code",
   "execution_count": null,
   "metadata": {},
   "outputs": [],
   "source": [
    "df.head()"
   ]
  },
  {
   "cell_type": "code",
   "execution_count": null,
   "metadata": {},
   "outputs": [],
   "source": [
    "\n",
    "cleaned_df = wine_df.drop(columns=['country', 'num_reviews'])\n",
    "cleaned_df.head()"
   ]
  },
  {
   "cell_type": "code",
   "execution_count": null,
   "metadata": {},
   "outputs": [],
   "source": [
    "lbencoder = LabelEncoder()\n",
    "labels = cleaned_df['type']\n",
    "cleaned_df['type'] = lbencoder.fit_transform(labels)\n",
    "cleaned_df.head()"
   ]
  },
  {
   "cell_type": "code",
   "execution_count": null,
   "metadata": {},
   "outputs": [],
   "source": [
    "cleaned_df.dropna()"
   ]
  },
  {
   "cell_type": "code",
   "execution_count": null,
   "metadata": {},
   "outputs": [],
   "source": [
    "from ClassificationDataPipeline import train_and_evaluate_models\n",
    "df = cleaned_df\n",
    "target_column = 'type'\n",
    "Randomstate = 50\n",
    "accuracy_scores = train_and_evaluate_models(df, target_column, Randomstate)\n",
    "print(accuracy_scores)"
   ]
  },
  {
   "cell_type": "code",
   "execution_count": null,
   "metadata": {},
   "outputs": [],
   "source": [
    "from ClassificationDataPipeline import train_and_evaluate_models\n",
    "df = cleaned_df\n",
    "target_column = 'price'\n",
    "Randomstate = 50\n",
    "accuracy_scores = train_and_evaluate_models(df, target_column, Randomstate)\n",
    "print(accuracy_scores)"
   ]
  },
  {
   "cell_type": "code",
   "execution_count": null,
   "metadata": {},
   "outputs": [],
   "source": [
    "from ClassificationDataPipeline import train_and_evaluate_models\n",
    "df = cleaned_df\n",
    "target_column = 'rating'\n",
    "Randomstate = 50\n",
    "accuracy_scores = train_and_evaluate_models(df, target_column, Randomstate)\n",
    "print(accuracy_scores)"
   ]
  },
  {
   "cell_type": "code",
   "execution_count": null,
   "metadata": {},
   "outputs": [],
   "source": [
    "df=pd.read_csv('wines_SPA.csv')\n",
    "df.drop(columns=['country', 'year'], inplace=True)\n",
    "train_scores = []\n",
    "test_scores = []\n",
    "targets=['price', 'rating', 'type']\n",
    "obj_columns=['winery', 'wine', 'region', 'type','price','rating']\n",
    "for obj in obj_columns:\n",
    "    encoder=LabelEncoder()\n",
    "    label_encoded=encoder.fit_transform(df[obj])\n",
    "    df[obj]=label_encoded\n",
    "df_final= df.dropna()\n",
    "display(df_final.corr())\n",
    "for target in targets:\n",
    "    y = df_final[target]\n",
    "    X = df_final.drop(columns=target, axis=1)\n",
    "    X_train, X_test, y_train, y_test = train_test_split(X, y, random_state=3)\n",
    "    train_scores=[]\n",
    "    test_scores=[]\n",
    "    for k in range(1, 11, 1):\n",
    "        knn = KNeighborsClassifier(n_neighbors=k)\n",
    "        knn.fit(X_train, y_train)\n",
    "        train_score = knn.score(X_train, y_train)\n",
    "        test_score = knn.score(X_test, y_test)\n",
    "        train_scores.append(train_score)\n",
    "        test_scores.append(test_score)\n",
    "        print(f\"k: {k}, Train/Test Score: {train_score:.3f}/{test_score:.3f}\")\n",
    "    plt.plot(train_scores, marker='o', label=\"training scores\")\n",
    "    plt.plot(test_scores, marker=\"x\", label=\"testing scores\")\n",
    "    plt.xlabel(\"k neighbors\")\n",
    "    plt.ylabel(\"accuracy score\")\n",
    "    plt.legend()\n",
    "    plt.title(f'{target}')\n",
    "    plt.show()"
   ]
  },
  {
   "cell_type": "code",
   "execution_count": null,
   "metadata": {},
   "outputs": [],
   "source": [
    "from ClassificationDataPipeline import train_and_evaluate_models\n",
    "df = pd.read_csv('wine_df2.csv')\n",
    "df.head()"
   ]
  },
  {
   "cell_type": "code",
   "execution_count": null,
   "metadata": {},
   "outputs": [],
   "source": [
    "df.drop(columns=['description','region_2','taster_name','taster_twitter_handle','Unnamed: 0'], inplace=True)"
   ]
  },
  {
   "cell_type": "code",
   "execution_count": null,
   "metadata": {},
   "outputs": [],
   "source": [
    "target_column = 'points'\n",
    "Randomstate = 50\n",
    "accuracy_scores = train_and_evaluate_models(df, target_column, Randomstate)\n",
    "print(accuracy_scores)"
   ]
  },
  {
   "cell_type": "code",
   "execution_count": null,
   "metadata": {},
   "outputs": [],
   "source": [
    "target_column = 'title'\n",
    "Randomstate = 50\n",
    "accuracy_scores = train_and_evaluate_models(df, target_column, Randomstate)\n",
    "print(accuracy_scores)"
   ]
  },
  {
   "cell_type": "code",
   "execution_count": null,
   "metadata": {},
   "outputs": [],
   "source": [
    "target_column = 'price'\n",
    "Randomstate = 50\n",
    "accuracy_scores = train_and_evaluate_models(df, target_column, Randomstate)\n",
    "print(accuracy_scores)"
   ]
  }
 ],
 "metadata": {
  "kernelspec": {
   "display_name": "base",
   "language": "python",
   "name": "python3"
  },
  "language_info": {
   "codemirror_mode": {
    "name": "ipython",
    "version": 3
   },
   "file_extension": ".py",
   "mimetype": "text/x-python",
   "name": "python",
   "nbconvert_exporter": "python",
   "pygments_lexer": "ipython3",
   "version": "3.10.13"
  }
 },
 "nbformat": 4,
 "nbformat_minor": 2
}
